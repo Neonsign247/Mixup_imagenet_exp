{
 "cells": [
  {
   "cell_type": "code",
   "execution_count": 25,
   "metadata": {},
   "outputs": [
    {
     "data": {
      "text/plain": [
       "'/workspace'"
      ]
     },
     "execution_count": 25,
     "metadata": {},
     "output_type": "execute_result"
    }
   ],
   "source": [
    "import os\n",
    "os.getcwd()"
   ]
  },
  {
   "cell_type": "code",
   "execution_count": 5,
   "metadata": {},
   "outputs": [],
   "source": [
    "from __future__ import division\n",
    "# Codes are borrowed from https://github.com/vikasverma1077/manifold_mixup/tree/master/supervised\n",
    "\n",
    "import os, sys, shutil, time, random\n",
    "from collections import OrderedDict\n",
    "\n",
    "sys.path.append('..')\n",
    "sys.path.append('/workspace/hi/DropMix/Mixup_imagenet_exp/')\n",
    "if sys.version_info[0] < 3:\n",
    "    import cPickle as pickle\n",
    "else:\n",
    "    import _pickle as pickle\n",
    "import argparse\n",
    "import numpy as np\n",
    "import torch\n",
    "import torch.backends.cudnn as cudnn\n",
    "import torch.nn as nn\n",
    "from torch.autograd import Variable\n",
    "from load_data import load_data_subset\n",
    "from logger import plotting, copy_script_to_folder, AverageMeter, RecorderMeter, time_string, convert_secs2time\n",
    "import models\n",
    "from multiprocessing import Pool\n",
    "\n",
    "os.environ['CUDA_VISIBLE_DEVICES'] = '6,7'"
   ]
  },
  {
   "cell_type": "code",
   "execution_count": 20,
   "metadata": {},
   "outputs": [],
   "source": [
    "ngpu = 1\n",
    "arch = 'wrn28_2'\n",
    "batch_size = 128\n",
    "dataset = 'cifar100'\n",
    "stride = 1 # if cifar100\n",
    "num_classes = 100\n",
    "data_dir = ''\n",
    "labels_per_class = 500\n",
    "valid_labels_per_class = 500\n",
    "dropout = False"
   ]
  },
  {
   "cell_type": "code",
   "execution_count": 24,
   "metadata": {},
   "outputs": [
    {
     "ename": "FileNotFoundError",
     "evalue": "[Errno 2] No such file or directory: ''",
     "output_type": "error",
     "traceback": [
      "\u001b[0;31m---------------------------------------------------------------------------\u001b[0m",
      "\u001b[0;31mFileNotFoundError\u001b[0m                         Traceback (most recent call last)",
      "\u001b[1;32m/workspace/hi/DropMix/Mixup_imagenet_exp/load_checkpoint.ipynb Cell 4\u001b[0m in \u001b[0;36m<cell line: 3>\u001b[0;34m()\u001b[0m\n\u001b[1;32m      <a href='vscode-notebook-cell://tunnel%2Bsiit-61/workspace/hi/DropMix/Mixup_imagenet_exp/load_checkpoint.ipynb#W3sdnNjb2RlLXJlbW90ZQ%3D%3D?line=0'>1</a>\u001b[0m resume \u001b[39m=\u001b[39m \u001b[39m'\u001b[39m\u001b[39m/workspace/hi/DropMix/Mixup_imagenet_exp/experiments/cifar100_arch_wrn28_2_train_vanilla_eph_300_lr_0.1_transport_eps_0.8_size_-1_job_id__seed_0/model_best.pth.tar\u001b[39m\u001b[39m'\u001b[39m\n\u001b[0;32m----> <a href='vscode-notebook-cell://tunnel%2Bsiit-61/workspace/hi/DropMix/Mixup_imagenet_exp/load_checkpoint.ipynb#W3sdnNjb2RlLXJlbW90ZQ%3D%3D?line=2'>3</a>\u001b[0m train_loader, valid_loader, _, test_loader, num_classes \u001b[39m=\u001b[39m load_data_subset(\n\u001b[1;32m      <a href='vscode-notebook-cell://tunnel%2Bsiit-61/workspace/hi/DropMix/Mixup_imagenet_exp/load_checkpoint.ipynb#W3sdnNjb2RlLXJlbW90ZQ%3D%3D?line=3'>4</a>\u001b[0m     batch_size,\n\u001b[1;32m      <a href='vscode-notebook-cell://tunnel%2Bsiit-61/workspace/hi/DropMix/Mixup_imagenet_exp/load_checkpoint.ipynb#W3sdnNjb2RlLXJlbW90ZQ%3D%3D?line=4'>5</a>\u001b[0m     \u001b[39m2\u001b[39;49m,\n\u001b[1;32m      <a href='vscode-notebook-cell://tunnel%2Bsiit-61/workspace/hi/DropMix/Mixup_imagenet_exp/load_checkpoint.ipynb#W3sdnNjb2RlLXJlbW90ZQ%3D%3D?line=5'>6</a>\u001b[0m     dataset,\n\u001b[1;32m      <a href='vscode-notebook-cell://tunnel%2Bsiit-61/workspace/hi/DropMix/Mixup_imagenet_exp/load_checkpoint.ipynb#W3sdnNjb2RlLXJlbW90ZQ%3D%3D?line=6'>7</a>\u001b[0m     data_dir,\n\u001b[1;32m      <a href='vscode-notebook-cell://tunnel%2Bsiit-61/workspace/hi/DropMix/Mixup_imagenet_exp/load_checkpoint.ipynb#W3sdnNjb2RlLXJlbW90ZQ%3D%3D?line=7'>8</a>\u001b[0m     labels_per_class\u001b[39m=\u001b[39;49mlabels_per_class,\n\u001b[1;32m      <a href='vscode-notebook-cell://tunnel%2Bsiit-61/workspace/hi/DropMix/Mixup_imagenet_exp/load_checkpoint.ipynb#W3sdnNjb2RlLXJlbW90ZQ%3D%3D?line=8'>9</a>\u001b[0m     valid_labels_per_class\u001b[39m=\u001b[39;49mvalid_labels_per_class,\n\u001b[1;32m     <a href='vscode-notebook-cell://tunnel%2Bsiit-61/workspace/hi/DropMix/Mixup_imagenet_exp/load_checkpoint.ipynb#W3sdnNjb2RlLXJlbW90ZQ%3D%3D?line=9'>10</a>\u001b[0m     mixup_alpha\u001b[39m=\u001b[39;49m\u001b[39m1.0\u001b[39;49m)\n\u001b[1;32m     <a href='vscode-notebook-cell://tunnel%2Bsiit-61/workspace/hi/DropMix/Mixup_imagenet_exp/load_checkpoint.ipynb#W3sdnNjb2RlLXJlbW90ZQ%3D%3D?line=11'>12</a>\u001b[0m \u001b[39m# create model\u001b[39;00m\n\u001b[1;32m     <a href='vscode-notebook-cell://tunnel%2Bsiit-61/workspace/hi/DropMix/Mixup_imagenet_exp/load_checkpoint.ipynb#W3sdnNjb2RlLXJlbW90ZQ%3D%3D?line=12'>13</a>\u001b[0m \u001b[39mprint\u001b[39m(\u001b[39m\"\u001b[39m\u001b[39m=> creating model \u001b[39m\u001b[39m'\u001b[39m\u001b[39m{}\u001b[39;00m\u001b[39m'\u001b[39m\u001b[39m\"\u001b[39m\u001b[39m.\u001b[39mformat(arch))\n",
      "File \u001b[0;32m/workspace/hi/DropMix/Mixup_imagenet_exp/load_data.py:65\u001b[0m, in \u001b[0;36mload_data_subset\u001b[0;34m(batch_size, workers, dataset, data_target_dir, labels_per_class, valid_labels_per_class, mixup_alpha)\u001b[0m\n\u001b[1;32m     63\u001b[0m     num_classes \u001b[39m=\u001b[39m \u001b[39m10\u001b[39m\n\u001b[1;32m     64\u001b[0m \u001b[39melif\u001b[39;00m dataset \u001b[39m==\u001b[39m \u001b[39m'\u001b[39m\u001b[39mcifar100\u001b[39m\u001b[39m'\u001b[39m:\n\u001b[0;32m---> 65\u001b[0m     train_data \u001b[39m=\u001b[39m datasets\u001b[39m.\u001b[39;49mCIFAR100(data_target_dir,\n\u001b[1;32m     66\u001b[0m                                    train\u001b[39m=\u001b[39;49m\u001b[39mTrue\u001b[39;49;00m,\n\u001b[1;32m     67\u001b[0m                                    transform\u001b[39m=\u001b[39;49mtrain_transform,\n\u001b[1;32m     68\u001b[0m                                    download\u001b[39m=\u001b[39;49m\u001b[39mTrue\u001b[39;49;00m)\n\u001b[1;32m     69\u001b[0m     test_data \u001b[39m=\u001b[39m datasets\u001b[39m.\u001b[39mCIFAR100(data_target_dir,\n\u001b[1;32m     70\u001b[0m                                   train\u001b[39m=\u001b[39m\u001b[39mFalse\u001b[39;00m,\n\u001b[1;32m     71\u001b[0m                                   transform\u001b[39m=\u001b[39mtest_transform,\n\u001b[1;32m     72\u001b[0m                                   download\u001b[39m=\u001b[39m\u001b[39mTrue\u001b[39;00m)\n\u001b[1;32m     73\u001b[0m     num_classes \u001b[39m=\u001b[39m \u001b[39m100\u001b[39m\n",
      "File \u001b[0;32m/opt/conda/lib/python3.8/site-packages/torchvision/datasets/cifar.py:65\u001b[0m, in \u001b[0;36mCIFAR10.__init__\u001b[0;34m(self, root, train, transform, target_transform, download)\u001b[0m\n\u001b[1;32m     62\u001b[0m \u001b[39mself\u001b[39m\u001b[39m.\u001b[39mtrain \u001b[39m=\u001b[39m train  \u001b[39m# training set or test set\u001b[39;00m\n\u001b[1;32m     64\u001b[0m \u001b[39mif\u001b[39;00m download:\n\u001b[0;32m---> 65\u001b[0m     \u001b[39mself\u001b[39;49m\u001b[39m.\u001b[39;49mdownload()\n\u001b[1;32m     67\u001b[0m \u001b[39mif\u001b[39;00m \u001b[39mnot\u001b[39;00m \u001b[39mself\u001b[39m\u001b[39m.\u001b[39m_check_integrity():\n\u001b[1;32m     68\u001b[0m     \u001b[39mraise\u001b[39;00m \u001b[39mRuntimeError\u001b[39;00m(\u001b[39m\"\u001b[39m\u001b[39mDataset not found or corrupted. You can use download=True to download it\u001b[39m\u001b[39m\"\u001b[39m)\n",
      "File \u001b[0;32m/opt/conda/lib/python3.8/site-packages/torchvision/datasets/cifar.py:141\u001b[0m, in \u001b[0;36mCIFAR10.download\u001b[0;34m(self)\u001b[0m\n\u001b[1;32m    139\u001b[0m     \u001b[39mprint\u001b[39m(\u001b[39m\"\u001b[39m\u001b[39mFiles already downloaded and verified\u001b[39m\u001b[39m\"\u001b[39m)\n\u001b[1;32m    140\u001b[0m     \u001b[39mreturn\u001b[39;00m\n\u001b[0;32m--> 141\u001b[0m download_and_extract_archive(\u001b[39mself\u001b[39;49m\u001b[39m.\u001b[39;49murl, \u001b[39mself\u001b[39;49m\u001b[39m.\u001b[39;49mroot, filename\u001b[39m=\u001b[39;49m\u001b[39mself\u001b[39;49m\u001b[39m.\u001b[39;49mfilename, md5\u001b[39m=\u001b[39;49m\u001b[39mself\u001b[39;49m\u001b[39m.\u001b[39;49mtgz_md5)\n",
      "File \u001b[0;32m/opt/conda/lib/python3.8/site-packages/torchvision/datasets/utils.py:425\u001b[0m, in \u001b[0;36mdownload_and_extract_archive\u001b[0;34m(url, download_root, extract_root, filename, md5, remove_finished)\u001b[0m\n\u001b[1;32m    422\u001b[0m \u001b[39mif\u001b[39;00m \u001b[39mnot\u001b[39;00m filename:\n\u001b[1;32m    423\u001b[0m     filename \u001b[39m=\u001b[39m os\u001b[39m.\u001b[39mpath\u001b[39m.\u001b[39mbasename(url)\n\u001b[0;32m--> 425\u001b[0m download_url(url, download_root, filename, md5)\n\u001b[1;32m    427\u001b[0m archive \u001b[39m=\u001b[39m os\u001b[39m.\u001b[39mpath\u001b[39m.\u001b[39mjoin(download_root, filename)\n\u001b[1;32m    428\u001b[0m \u001b[39mprint\u001b[39m(\u001b[39mf\u001b[39m\u001b[39m\"\u001b[39m\u001b[39mExtracting \u001b[39m\u001b[39m{\u001b[39;00marchive\u001b[39m}\u001b[39;00m\u001b[39m to \u001b[39m\u001b[39m{\u001b[39;00mextract_root\u001b[39m}\u001b[39;00m\u001b[39m\"\u001b[39m)\n",
      "File \u001b[0;32m/opt/conda/lib/python3.8/site-packages/torchvision/datasets/utils.py:134\u001b[0m, in \u001b[0;36mdownload_url\u001b[0;34m(url, root, filename, md5, max_redirect_hops)\u001b[0m\n\u001b[1;32m    131\u001b[0m     filename \u001b[39m=\u001b[39m os\u001b[39m.\u001b[39mpath\u001b[39m.\u001b[39mbasename(url)\n\u001b[1;32m    132\u001b[0m fpath \u001b[39m=\u001b[39m os\u001b[39m.\u001b[39mpath\u001b[39m.\u001b[39mjoin(root, filename)\n\u001b[0;32m--> 134\u001b[0m os\u001b[39m.\u001b[39;49mmakedirs(root, exist_ok\u001b[39m=\u001b[39;49m\u001b[39mTrue\u001b[39;49;00m)\n\u001b[1;32m    136\u001b[0m \u001b[39m# check if file is already present locally\u001b[39;00m\n\u001b[1;32m    137\u001b[0m \u001b[39mif\u001b[39;00m check_integrity(fpath, md5):\n",
      "File \u001b[0;32m/opt/conda/lib/python3.8/os.py:223\u001b[0m, in \u001b[0;36mmakedirs\u001b[0;34m(name, mode, exist_ok)\u001b[0m\n\u001b[1;32m    221\u001b[0m         \u001b[39mreturn\u001b[39;00m\n\u001b[1;32m    222\u001b[0m \u001b[39mtry\u001b[39;00m:\n\u001b[0;32m--> 223\u001b[0m     mkdir(name, mode)\n\u001b[1;32m    224\u001b[0m \u001b[39mexcept\u001b[39;00m \u001b[39mOSError\u001b[39;00m:\n\u001b[1;32m    225\u001b[0m     \u001b[39m# Cannot rely on checking for EEXIST, since the operating system\u001b[39;00m\n\u001b[1;32m    226\u001b[0m     \u001b[39m# could give priority to other errors like EACCES or EROFS\u001b[39;00m\n\u001b[1;32m    227\u001b[0m     \u001b[39mif\u001b[39;00m \u001b[39mnot\u001b[39;00m exist_ok \u001b[39mor\u001b[39;00m \u001b[39mnot\u001b[39;00m path\u001b[39m.\u001b[39misdir(name):\n",
      "\u001b[0;31mFileNotFoundError\u001b[0m: [Errno 2] No such file or directory: ''"
     ]
    }
   ],
   "source": [
    "resume = '/workspace/hi/DropMix/Mixup_imagenet_exp/experiments/cifar100_arch_wrn28_2_train_vanilla_eph_300_lr_0.1_transport_eps_0.8_size_-1_job_id__seed_0/model_best.pth.tar'\n",
    "\n",
    "train_loader, valid_loader, _, test_loader, num_classes = load_data_subset(\n",
    "    batch_size,\n",
    "    2,\n",
    "    dataset,\n",
    "    data_dir,\n",
    "    labels_per_class=labels_per_class,\n",
    "    valid_labels_per_class=valid_labels_per_class,\n",
    "    mixup_alpha=1.0)\n",
    "\n",
    "# create model\n",
    "print(\"=> creating model '{}'\".format(arch))\n",
    "net = models.__dict__[arch](num_classes, dropout, stride).cuda()\n",
    "net = torch.nn.DataParallel(net, device_ids=list(range(ngpu)))\n",
    "\n",
    "if os.path.isfile(resume):\n",
    "    print(\"=> loading checkpoint '{}'\".format(resume))\n",
    "    checkpoint = torch.load(resume)\n",
    "    recorder = checkpoint['recorder']\n",
    "    start_epoch = checkpoint['epoch']\n",
    "    net.load_state_dict(checkpoint['state_dict'])\n",
    "    best_acc = recorder.max_accuracy(False)\n",
    "    print(\n",
    "        \"=> loaded checkpoint '{}' accuracy={} (epoch {})\".format(\n",
    "            resume, best_acc, checkpoint['epoch']))\n",
    "else:\n",
    "    print(\"=> no checkpoint found at '{}'\".format(resume))\n"
   ]
  },
  {
   "cell_type": "code",
   "execution_count": 15,
   "metadata": {},
   "outputs": [
    {
     "data": {
      "text/plain": [
       "dict_keys(['epoch', 'arch', 'state_dict', 'recorder', 'optimizer'])"
      ]
     },
     "execution_count": 15,
     "metadata": {},
     "output_type": "execute_result"
    }
   ],
   "source": [
    "checkpoint.keys()"
   ]
  },
  {
   "cell_type": "code",
   "execution_count": null,
   "metadata": {},
   "outputs": [],
   "source": [
    "global best_acc\n",
    "\n",
    "# dataloader\n",
    "train_loader, valid_loader, _, test_loader, num_classes = load_data_subset(\n",
    "    args.batch_size,\n",
    "    2,\n",
    "    args.dataset,\n",
    "    args.data_dir,\n",
    "    labels_per_class=labels_per_class,\n",
    "    valid_labels_per_class=valid_labels_per_class,\n",
    "    mixup_alpha=1.0)\n",
    "\n",
    "# create model\n",
    "print(\"=> creating model '{}'\".format(arch))\n",
    "net = models.__dict__[arch](num_classes, dropout, stride).cuda()\n",
    "\n",
    "net = torch.nn.DataParallel(net, device_ids=list(range(args.ngpu)))\n",
    "\n",
    "# optionally resume from a checkpoint\n",
    "if os.path.isfile(args.resume):\n",
    "    print_log(\"=> loading checkpoint '{}'\".format(args.resume), log)\n",
    "    checkpoint = torch.load(args.resume)\n",
    "    recorder = checkpoint['recorder']\n",
    "    args.start_epoch = checkpoint['epoch']\n",
    "    net.load_state_dict(checkpoint['state_dict'])\n",
    "    optimizer.load_state_dict(checkpoint['optimizer'])\n",
    "    best_acc = recorder.max_accuracy(False)\n",
    "    print_log(\n",
    "        \"=> loaded checkpoint '{}' accuracy={} (epoch {})\".format(\n",
    "            args.resume, best_acc, checkpoint['epoch']), log)\n",
    "else:\n",
    "    print_log(\"=> no checkpoint found at '{}'\".format(args.resume), log)\n",
    "\n",
    "validate(test_loader, net, criterion, log)"
   ]
  },
  {
   "cell_type": "code",
   "execution_count": null,
   "metadata": {},
   "outputs": [],
   "source": [
    "def validate(val_loader, model, log, eps=4, rand_init=False, mean=None, std=None):\n",
    "    '''evaluate trained model'''\n",
    "    losses = AverageMeter()\n",
    "    top1 = AverageMeter()\n",
    "    top5 = AverageMeter()\n",
    "\n",
    "    # switch to evaluate mode\n",
    "    model.eval()\n",
    "\n",
    "    for i, (input, target) in enumerate(val_loader):\n",
    "        if args.use_cuda:\n",
    "            input = input.cuda()\n",
    "            target = target.cuda()\n",
    "\n",
    "        with torch.no_grad():\n",
    "            input_var = Variable(input)\n",
    "            target_var = Variable(target)\n",
    "\n",
    "            # compute output\n",
    "            output = model(input_var)\n",
    "            loss = criterion(output, target_var)\n",
    "\n",
    "        # measure accuracy and record loss\n",
    "        prec1, prec5 = accuracy(output.data, target, topk=(1, 5))\n",
    "        losses.update(loss.item(), input.size(0))\n",
    "        top1.update(prec1.item(), input.size(0))\n",
    "        top5.update(prec5.item(), input.size(0))\n",
    "\n",
    "    if fgsm:\n",
    "        print_log('Attack (eps : {}) Prec@1 {top1.avg:.2f}'.format(eps, top1=top1), log)\n",
    "    else:\n",
    "        print_log(\n",
    "            '  **Test** Prec@1 {top1.avg:.3f} Prec@5 {top5.avg:.3f} Error@1 {error1:.3f} Loss: {losses.avg:.3f} '\n",
    "            .format(top1=top1, top5=top5, error1=100 - top1.avg, losses=losses), log)\n",
    "    return top1.avg, losses.avg"
   ]
  }
 ],
 "metadata": {
  "kernelspec": {
   "display_name": "Python 3 (ipykernel)",
   "language": "python",
   "name": "python3"
  },
  "language_info": {
   "codemirror_mode": {
    "name": "ipython",
    "version": 3
   },
   "file_extension": ".py",
   "mimetype": "text/x-python",
   "name": "python",
   "nbconvert_exporter": "python",
   "pygments_lexer": "ipython3",
   "version": "3.8.13"
  },
  "orig_nbformat": 4
 },
 "nbformat": 4,
 "nbformat_minor": 2
}
