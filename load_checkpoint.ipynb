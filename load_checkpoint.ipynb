{
 "cells": [
  {
   "cell_type": "code",
   "execution_count": 2,
   "metadata": {},
   "outputs": [
    {
     "data": {
      "text/plain": [
       "'/workspace/hi/DropMix/Mixup_imagenet_exp'"
      ]
     },
     "execution_count": 2,
     "metadata": {},
     "output_type": "execute_result"
    }
   ],
   "source": [
    "import os\n",
    "os.getcwd()"
   ]
  },
  {
   "cell_type": "code",
   "execution_count": 3,
   "metadata": {},
   "outputs": [
    {
     "name": "stderr",
     "output_type": "stream",
     "text": [
      "/opt/conda/lib/python3.8/site-packages/tqdm/auto.py:22: TqdmWarning: IProgress not found. Please update jupyter and ipywidgets. See https://ipywidgets.readthedocs.io/en/stable/user_install.html\n",
      "  from .autonotebook import tqdm as notebook_tqdm\n"
     ]
    }
   ],
   "source": [
    "from __future__ import division\n",
    "# Codes are borrowed from https://github.com/vikasverma1077/manifold_mixup/tree/master/supervised\n",
    "\n",
    "import os, sys, shutil, time, random\n",
    "from collections import OrderedDict\n",
    "os.environ['CUDA_VISIBLE_DEVICES'] = '0'\n",
    "\n",
    "sys.path.append('..')\n",
    "sys.path.append('/workspace/hi/DropMix/Mixup_imagenet_exp/')\n",
    "if sys.version_info[0] < 3:\n",
    "    import cPickle as pickle\n",
    "else:\n",
    "    import _pickle as pickle\n",
    "import argparse\n",
    "import numpy as np\n",
    "import torch\n",
    "import torch.backends.cudnn as cudnn\n",
    "import torch.nn as nn\n",
    "from torch.autograd import Variable\n",
    "from load_data import load_data_subset\n",
    "from logger import plotting, copy_script_to_folder, AverageMeter, RecorderMeter, time_string, convert_secs2time\n",
    "import models\n",
    "from multiprocessing import Pool\n",
    "import matplotlib.pyplot as plt\n"
   ]
  },
  {
   "cell_type": "code",
   "execution_count": 4,
   "metadata": {},
   "outputs": [],
   "source": [
    "ngpu = 1\n",
    "arch = 'wrn28_2'\n",
    "batch_size = 128\n",
    "dataset = 'cifar100'\n",
    "stride = 1 # if cifar100\n",
    "num_classes = 100\n",
    "data_dir = '/'\n",
    "labels_per_class = 500\n",
    "valid_labels_per_class = 500\n",
    "dropout = False"
   ]
  },
  {
   "cell_type": "code",
   "execution_count": 7,
   "metadata": {},
   "outputs": [
    {
     "name": "stdout",
     "output_type": "stream",
     "text": [
      "Files already downloaded and verified\n",
      "Files already downloaded and verified\n",
      "=> loaded checkpoint '/workspace/hi/DropMix/Mixup_imagenet_exp/ext_exp/CutMix/cifar100_arch_resnet56_train_mixup_eph_300_lr_0.2_m_alpha_1.0_m_prob_0.5_box_transport_eps_0.8_size_-1_job_id__seed_0/model_best.pth.tar' accuracy=73.6500015258789 (epoch 243)\n"
     ]
    }
   ],
   "source": [
    "train_loader, valid_loader, _, test_loader, num_classes = load_data_subset(\n",
    "    batch_size,\n",
    "    2,\n",
    "    dataset,\n",
    "    data_dir,\n",
    "    labels_per_class=labels_per_class,\n",
    "    valid_labels_per_class=valid_labels_per_class,\n",
    "    mixup_alpha=1.0)\n",
    "\n",
    "exp = 'cifar100_arch_resnet56_train_mixup_eph_300_lr_0.2_m_alpha_1.0_m_prob_0.5_box_transport_eps_0.8_size_-1_job_id__seed_0'\n",
    "exp_root = os.path.join(os.getcwd(), 'ext_exp/CutMix')\n",
    "resume_dir = os.path.join(exp_root, exp)\n",
    "resume = os.path.join(resume_dir, 'model_best.pth.tar')\n",
    "\n",
    "#     if exp.find('box') == -1 and exp.find('graph') == -1:\n",
    "#     if True:\n",
    "#     if exp.find('resnet56') != -1:\n",
    "\n",
    "str_end = exp.lstrip('cifar100_arch_').find('_train')\n",
    "# arch = exp.lstrip('cifar100_arch_')[:str_end]\n",
    "arch = 'resnet56'\n",
    "\n",
    "# create model\n",
    "#         print(\"=> creating model '{}'\".format(arch))\n",
    "net = models.__dict__[arch](num_classes, dropout, stride).cuda()\n",
    "net = torch.nn.DataParallel(net, device_ids=list(range(ngpu)))\n",
    "\n",
    "if os.path.isfile(resume):\n",
    "#             print(\"=> loading checkpoint '{}'\".format(resume))\n",
    "    checkpoint = torch.load(resume)\n",
    "    recorder = checkpoint['recorder']\n",
    "    start_epoch = checkpoint['epoch']\n",
    "    net.load_state_dict(checkpoint['state_dict'])\n",
    "    best_acc = recorder.max_accuracy(False)\n",
    "    print(\n",
    "        \"=> loaded checkpoint '{}' accuracy={} (epoch {})\".format(\n",
    "            resume, best_acc, checkpoint['epoch']))\n",
    "else:\n",
    "    print(\"=> no checkpoint found at '{}'\".format(resume))\n",
    "\n",
    "net.eval()\n",
    "\n",
    "# val\n",
    "correct_classes = torch.zeros(num_classes).cuda()\n",
    "number_classes = torch.zeros(num_classes).cuda()\n",
    "\n",
    "for i, (input, target) in enumerate(test_loader):\n",
    "    target = target.cuda()\n",
    "    input = input.cuda()\n",
    "\n",
    "    output = net(input)\n",
    "    output = output.data\n",
    "    topk=(1,)\n",
    "\n",
    "    maxk = max(topk)\n",
    "    batch_size = target.size(0)\n",
    "\n",
    "    _, pred = output.topk(maxk, 1, True, True)\n",
    "    pred = pred.t()\n",
    "    correct = pred.eq(target.view(1, -1).expand_as(pred))\n",
    "\n",
    "    for c, i in zip(correct.reshape(-1).float(), target):\n",
    "        correct_classes[i] += c\n",
    "        number_classes[i] += 1\n",
    "\n",
    "np.save(os.path.join(resume_dir , 'correct_classes'), correct_classes.cpu().numpy().astype(int))\n",
    "if number_classes.sum() != 10000:\n",
    "    print(\"wrong number of classes\")\n"
   ]
  },
  {
   "cell_type": "code",
   "execution_count": 6,
   "metadata": {},
   "outputs": [
    {
     "name": "stdout",
     "output_type": "stream",
     "text": [
      "Files already downloaded and verified\n",
      "Files already downloaded and verified\n"
     ]
    },
    {
     "name": "stderr",
     "output_type": "stream",
     "text": [
      "  0%|                                                                                     | 0/14 [00:00<?, ?it/s]"
     ]
    },
    {
     "name": "stdout",
     "output_type": "stream",
     "text": [
      "=> loaded checkpoint '/workspace/hi/DropMix/Mixup_imagenet_exp/experiments/cifar100_arch_resnet56_train_mixup_eph_300_lr_0.2_m_alpha_1.0_m_prob_0.3_box_transport_eps_0.8_size_-1_job_id__seed_0/model_best.pth.tar' accuracy=72.98999786376953 (epoch 242)\n"
     ]
    },
    {
     "name": "stderr",
     "output_type": "stream",
     "text": [
      " 29%|██████████████████████                                                       | 4/14 [00:08<00:21,  2.15s/it]"
     ]
    },
    {
     "name": "stdout",
     "output_type": "stream",
     "text": [
      "=> loaded checkpoint '/workspace/hi/DropMix/Mixup_imagenet_exp/experiments/cifar100_arch_resnet56_train_mixup_eph_300_lr_0.2_m_alpha_1.0_m_prob_0.3_box_transport_eps_0.8_size_-1_job_id__seed_1/model_best.pth.tar' accuracy=73.2300033569336 (epoch 227)\n"
     ]
    },
    {
     "name": "stderr",
     "output_type": "stream",
     "text": [
      " 36%|███████████████████████████▌                                                 | 5/14 [00:17<00:36,  4.05s/it]"
     ]
    },
    {
     "name": "stdout",
     "output_type": "stream",
     "text": [
      "=> loaded checkpoint '/workspace/hi/DropMix/Mixup_imagenet_exp/experiments/cifar100_arch_resnet56_train_mixup_eph_300_lr_0.2_m_alpha_1.0_m_prob_0.3_box_transport_eps_0.8_size_-1_job_id__seed_2/model_best.pth.tar' accuracy=72.66000366210938 (epoch 212)\n"
     ]
    },
    {
     "name": "stderr",
     "output_type": "stream",
     "text": [
      " 43%|█████████████████████████████████                                            | 6/14 [00:26<00:42,  5.33s/it]"
     ]
    },
    {
     "name": "stdout",
     "output_type": "stream",
     "text": [
      "=> loaded checkpoint '/workspace/hi/DropMix/Mixup_imagenet_exp/experiments/cifar100_arch_resnet56_train_mixup_eph_300_lr_0.2_m_alpha_1.0_m_prob_0.3_box_transport_eps_0.8_size_-1_job_id__seed_3/model_best.pth.tar' accuracy=73.13999938964844 (epoch 225)\n"
     ]
    },
    {
     "name": "stderr",
     "output_type": "stream",
     "text": [
      " 50%|██████████████████████████████████████▌                                      | 7/14 [00:35<00:43,  6.23s/it]"
     ]
    },
    {
     "name": "stdout",
     "output_type": "stream",
     "text": [
      "=> loaded checkpoint '/workspace/hi/DropMix/Mixup_imagenet_exp/experiments/cifar100_arch_resnet56_train_mixup_eph_300_lr_0.2_m_alpha_1.0_m_prob_0.3_box_transport_eps_0.8_size_-1_job_id__seed_4/model_best.pth.tar' accuracy=72.91000366210938 (epoch 208)\n"
     ]
    },
    {
     "name": "stderr",
     "output_type": "stream",
     "text": [
      " 57%|████████████████████████████████████████████                                 | 8/14 [00:43<00:41,  6.90s/it]"
     ]
    },
    {
     "name": "stdout",
     "output_type": "stream",
     "text": [
      "=> loaded checkpoint '/workspace/hi/DropMix/Mixup_imagenet_exp/experiments/cifar100_arch_resnet56_train_mixup_eph_300_lr_0.2_m_alpha_1.0_m_prob_0.3_transport_eps_0.8_size_-1_job_id__seed_0/model_best.pth.tar' accuracy=70.68000030517578 (epoch 210)\n"
     ]
    },
    {
     "name": "stderr",
     "output_type": "stream",
     "text": [
      " 64%|█████████████████████████████████████████████████▌                           | 9/14 [00:52<00:36,  7.35s/it]"
     ]
    },
    {
     "name": "stdout",
     "output_type": "stream",
     "text": [
      "=> loaded checkpoint '/workspace/hi/DropMix/Mixup_imagenet_exp/experiments/cifar100_arch_resnet56_train_mixup_eph_300_lr_0.2_m_alpha_1.0_m_prob_0.3_transport_eps_0.8_size_-1_job_id__seed_1/model_best.pth.tar' accuracy=70.76000213623047 (epoch 204)\n"
     ]
    },
    {
     "name": "stderr",
     "output_type": "stream",
     "text": [
      " 71%|██████████████████████████████████████████████████████▎                     | 10/14 [01:00<00:30,  7.71s/it]"
     ]
    },
    {
     "name": "stdout",
     "output_type": "stream",
     "text": [
      "=> loaded checkpoint '/workspace/hi/DropMix/Mixup_imagenet_exp/experiments/cifar100_arch_resnet56_train_mixup_eph_300_lr_0.2_m_alpha_1.0_m_prob_0.3_transport_eps_0.8_size_-1_job_id__seed_2/model_best.pth.tar' accuracy=71.05000305175781 (epoch 215)\n"
     ]
    },
    {
     "name": "stderr",
     "output_type": "stream",
     "text": [
      " 79%|███████████████████████████████████████████████████████████▋                | 11/14 [01:09<00:23,  7.99s/it]"
     ]
    },
    {
     "name": "stdout",
     "output_type": "stream",
     "text": [
      "=> loaded checkpoint '/workspace/hi/DropMix/Mixup_imagenet_exp/experiments/cifar100_arch_resnet56_train_mixup_eph_300_lr_0.2_m_alpha_1.0_m_prob_0.3_transport_eps_0.8_size_-1_job_id__seed_3/model_best.pth.tar' accuracy=71.52999877929688 (epoch 208)\n"
     ]
    },
    {
     "name": "stderr",
     "output_type": "stream",
     "text": [
      " 86%|█████████████████████████████████████████████████████████████████▏          | 12/14 [01:18<00:16,  8.15s/it]"
     ]
    },
    {
     "name": "stdout",
     "output_type": "stream",
     "text": [
      "=> loaded checkpoint '/workspace/hi/DropMix/Mixup_imagenet_exp/experiments/cifar100_arch_resnet56_train_mixup_eph_300_lr_0.2_m_alpha_1.0_m_prob_0.3_transport_eps_0.8_size_-1_job_id__seed_4/model_best.pth.tar' accuracy=70.91000366210938 (epoch 230)\n"
     ]
    },
    {
     "name": "stderr",
     "output_type": "stream",
     "text": [
      "100%|████████████████████████████████████████████████████████████████████████████| 14/14 [01:26<00:00,  6.18s/it]\n"
     ]
    }
   ],
   "source": [
    "train_loader, valid_loader, _, test_loader, num_classes = load_data_subset(\n",
    "    batch_size,\n",
    "    2,\n",
    "    dataset,\n",
    "    data_dir,\n",
    "    labels_per_class=labels_per_class,\n",
    "    valid_labels_per_class=valid_labels_per_class,\n",
    "    mixup_alpha=1.0)\n",
    "\n",
    "from tqdm import tqdm\n",
    "\n",
    "exp_root = os.path.join(os.getcwd(), 'experiments')\n",
    "# exp_root = os.path.join(os.getcwd(), 'ext_exp/resnet56_mixup_108')\n",
    "# exp_root = os.path.join(os.getcwd(), 'ext_exp/CutMix')\n",
    "for exp in tqdm(sorted(os.listdir(exp_root))):\n",
    "    resume_dir = os.path.join(exp_root, exp)\n",
    "    resume = os.path.join(resume_dir, 'model_best.pth.tar')\n",
    "\n",
    "    if exp.startswith('cifar100_arch_resnet56'):\n",
    "#     if exp.find('box') == -1 and exp.find('graph') == -1:\n",
    "#     if True:\n",
    "#     if exp.find('resnet56') != -1:\n",
    "#     if (not exp.startswith('cifar100_arch_resnet56')) and exp.startswith('cifar'):\n",
    "        str_end = exp.lstrip('cifar100_arch_').find('_train')\n",
    "        arch = exp.lstrip('cifar100_arch_')[:str_end]\n",
    "        arch = 'resnet56'\n",
    "\n",
    "        # create model\n",
    "#         print(\"=> creating model '{}'\".format(arch))\n",
    "        net = models.__dict__[arch](num_classes, dropout, stride).cuda()\n",
    "        net = torch.nn.DataParallel(net, device_ids=list(range(ngpu)))\n",
    "\n",
    "        if os.path.isfile(resume):\n",
    "#             print(\"=> loading checkpoint '{}'\".format(resume))\n",
    "            checkpoint = torch.load(resume)\n",
    "            recorder = checkpoint['recorder']\n",
    "            start_epoch = checkpoint['epoch']\n",
    "            net.load_state_dict(checkpoint['state_dict'])\n",
    "            best_acc = recorder.max_accuracy(False)\n",
    "            print(\n",
    "                \"=> loaded checkpoint '{}' accuracy={} (epoch {})\".format(\n",
    "                    resume, best_acc, checkpoint['epoch']))\n",
    "        else:\n",
    "            print(\"=> no checkpoint found at '{}'\".format(resume))\n",
    "\n",
    "        net.eval()\n",
    "\n",
    "        # val\n",
    "        correct_classes = torch.zeros(num_classes).cuda()\n",
    "        number_classes = torch.zeros(num_classes).cuda()\n",
    "\n",
    "        for i, (input, target) in enumerate(test_loader):\n",
    "            target = target.cuda()\n",
    "            input = input.cuda()\n",
    "\n",
    "            output = net(input)\n",
    "            output = output.data\n",
    "            topk=(1,)\n",
    "\n",
    "            maxk = max(topk)\n",
    "            batch_size = target.size(0)\n",
    "\n",
    "            _, pred = output.topk(maxk, 1, True, True)\n",
    "            pred = pred.t()\n",
    "            correct = pred.eq(target.view(1, -1).expand_as(pred))\n",
    "\n",
    "            for c, i in zip(correct.reshape(-1).float(), target):\n",
    "                correct_classes[i] += c\n",
    "                number_classes[i] += 1\n",
    "\n",
    "        np.save(os.path.join(resume_dir , 'correct_classes'), correct_classes.cpu().numpy().astype(int))\n",
    "        if number_classes.sum() != 10000:\n",
    "            print(\"wrong number of classes\")\n"
   ]
  },
  {
   "cell_type": "code",
   "execution_count": 21,
   "metadata": {},
   "outputs": [
    {
     "data": {
      "text/plain": [
       "array([74.26 , 75.296, 75.89 , 76.152, 76.328, 76.722, 76.51 , 76.642,\n",
       "       76.524, 75.94 , 75.442])"
      ]
     },
     "execution_count": 21,
     "metadata": {},
     "output_type": "execute_result"
    },
    {
     "data": {
      "image/png": "[encoded data removed]",
      "text/plain": [
       "<Figure size 432x288 with 1 Axes>"
      ]
     },
     "metadata": {
      "needs_background": "light"
     },
     "output_type": "display_data"
    }
   ],
   "source": [
    "# cutmix analysis\n",
    "number_seeds = 5\n",
    "number_probs = 11\n",
    "number_classes = 100\n",
    "\n",
    "correct_classes_all = np.zeros([number_probs, number_seeds, num_classes])\n",
    "\n",
    "exp_root = os.path.join(os.getcwd(), 'ext_exp/experiments')\n",
    "exp_name = 'cifar100_arch_wrn28_2_train_mixup_eph_300_lr_0.2_m_alpha_1.0_m_prob_1.0_box_transport_eps_0.8_size_-1_job_id__seed_4'\n",
    "exp_name_1, exp_name_2 =exp_name.split('prob')\n",
    "# for i in range(number_seeds):\n",
    "#     correct_classes_all[0, i] = np.load(os.path.join(exp_root, 'cifar100_arch_wrn28_2_train_vanilla_eph_300_lr_0.1_transport_eps_0.8_size_-1_job_id__seed_{}'.format(i), 'correct_classes.npy'))\n",
    "for j in range(11):\n",
    "    for i in range(number_seeds):\n",
    "        correct_classes_all[j, i] = np.load(os.path.join(exp_root, exp_name_1 + \"prob_{}\".format(j/10) +  exp_name_2[4:-1] + str(i), 'correct_classes.npy'))\n",
    "#         print(exp_name_1 + \"prob_{}\".format(j/10) +  exp_name_2[4:-1] + str(i))\n",
    "\n",
    "correct_classes_mean = np.mean(correct_classes_all, axis=1)\n",
    "plt.plot(np.mean(correct_classes_mean, axis=1))\n",
    "np.mean(correct_classes_mean, axis=1)"
   ]
  },
  {
   "cell_type": "code",
   "execution_count": 22,
   "metadata": {},
   "outputs": [
    {
     "data": {
      "text/plain": [
       "array([76.728, 78.38 , 78.732, 78.968, 79.27 , 79.526, 79.574, 79.588,\n",
       "       79.35 , 79.136, 79.436])"
      ]
     },
     "execution_count": 22,
     "metadata": {},
     "output_type": "execute_result"
    },
    {
     "data": {
      "image/png": "[encoded data removed]",
      "text/plain": [
       "<Figure size 432x288 with 1 Axes>"
      ]
     },
     "metadata": {
      "needs_background": "light"
     },
     "output_type": "display_data"
    }
   ],
   "source": [
    "# cutmix analysis\n",
    "number_seeds = 5\n",
    "number_probs = 11\n",
    "number_classes = 100\n",
    "\n",
    "correct_classes_all = np.zeros([number_probs, number_seeds, num_classes])\n",
    "\n",
    "exp_root = os.path.join(os.getcwd(), 'ext_exp/experiments')\n",
    "exp_name = 'cifar100_arch_preactresnet18_train_mixup_eph_300_lr_0.2_m_alpha_1.0_m_prob_1.0_box_transport_eps_0.8_size_-1_job_id__seed_4'\n",
    "exp_name_1, exp_name_2 =exp_name.split('prob')\n",
    "# for i in range(number_seeds):\n",
    "#     correct_classes_all[0, i] = np.load(os.path.join(exp_root, 'cifar100_arch_wrn28_2_train_vanilla_eph_300_lr_0.1_transport_eps_0.8_size_-1_job_id__seed_{}'.format(i), 'correct_classes.npy'))\n",
    "for j in range(11):\n",
    "    for i in range(number_seeds):\n",
    "        correct_classes_all[j, i] = np.load(os.path.join(exp_root, exp_name_1 + \"prob_{}\".format(j/10) +  exp_name_2[4:-1] + str(i), 'correct_classes.npy'))\n",
    "#         print(exp_name_1 + \"prob_{}\".format(j/10) +  exp_name_2[4:-1] + str(i))\n",
    "\n",
    "correct_classes_mean = np.mean(correct_classes_all, axis=1)\n",
    "plt.plot(np.mean(correct_classes_mean, axis=1))\n",
    "np.mean(correct_classes_mean, axis=1)"
   ]
  },
  {
   "cell_type": "code",
   "execution_count": 23,
   "metadata": {},
   "outputs": [
    {
     "data": {
      "text/plain": [
       "array([77.986, 79.592, 80.26 , 80.614, 81.02 , 81.14 , 81.184, 81.152,\n",
       "       81.072, 81.064, 80.822])"
      ]
     },
     "execution_count": 23,
     "metadata": {},
     "output_type": "execute_result"
    },
    {
     "data": {
      "image/png": "[encoded data removed]",
      "text/plain": [
       "<Figure size 432x288 with 1 Axes>"
      ]
     },
     "metadata": {
      "needs_background": "light"
     },
     "output_type": "display_data"
    }
   ],
   "source": [
    "# cutmix analysis\n",
    "number_seeds = 5\n",
    "number_probs = 11\n",
    "number_classes = 100\n",
    "\n",
    "correct_classes_all = np.zeros([number_probs, number_seeds, num_classes])\n",
    "\n",
    "exp_root = os.path.join(os.getcwd(), 'ext_exp/experiments')\n",
    "exp_name = 'cifar100_arch_preactresnet34_train_mixup_eph_300_lr_0.2_m_alpha_1.0_m_prob_1.0_box_transport_eps_0.8_size_-1_job_id__seed_4'\n",
    "exp_name_1, exp_name_2 =exp_name.split('prob')\n",
    "# for i in range(number_seeds):\n",
    "#     correct_classes_all[0, i] = np.load(os.path.join(exp_root, 'cifar100_arch_wrn28_2_train_vanilla_eph_300_lr_0.1_transport_eps_0.8_size_-1_job_id__seed_{}'.format(i), 'correct_classes.npy'))\n",
    "for j in range(11):\n",
    "    for i in range(number_seeds):\n",
    "        correct_classes_all[j, i] = np.load(os.path.join(exp_root, exp_name_1 + \"prob_{}\".format(j/10) +  exp_name_2[4:-1] + str(i), 'correct_classes.npy'))\n",
    "#         print(exp_name_1 + \"prob_{}\".format(j/10) +  exp_name_2[4:-1] + str(i))\n",
    "\n",
    "correct_classes_mean = np.mean(correct_classes_all, axis=1)\n",
    "plt.plot(np.mean(correct_classes_mean, axis=1))\n",
    "np.mean(correct_classes_mean, axis=1)"
   ]
  },
  {
   "cell_type": "code",
   "execution_count": 24,
   "metadata": {},
   "outputs": [
    {
     "data": {
      "text/plain": [
       "array([78.972, 80.732, 81.42 , 81.86 , 82.2  , 82.296, 82.32 , 82.3  ,\n",
       "       81.778, 82.08 , 81.912])"
      ]
     },
     "execution_count": 24,
     "metadata": {},
     "output_type": "execute_result"
    },
    {
     "data": {
      "image/png": "[encoded data removed]",
      "text/plain": [
       "<Figure size 432x288 with 1 Axes>"
      ]
     },
     "metadata": {
      "needs_background": "light"
     },
     "output_type": "display_data"
    }
   ],
   "source": [
    "# cutmix analysis\n",
    "number_seeds = 5\n",
    "number_probs = 11\n",
    "number_classes = 100\n",
    "\n",
    "correct_classes_all = np.zeros([number_probs, number_seeds, num_classes])\n",
    "\n",
    "exp_root = os.path.join(os.getcwd(), 'ext_exp/experiments')\n",
    "exp_name = 'cifar100_arch_preactresnet50_train_mixup_eph_300_lr_0.2_m_alpha_1.0_m_prob_1.0_box_transport_eps_0.8_size_-1_job_id__seed_4'\n",
    "exp_name_1, exp_name_2 =exp_name.split('prob')\n",
    "# for i in range(number_seeds):\n",
    "#     correct_classes_all[0, i] = np.load(os.path.join(exp_root, 'cifar100_arch_wrn28_2_train_vanilla_eph_300_lr_0.1_transport_eps_0.8_size_-1_job_id__seed_{}'.format(i), 'correct_classes.npy'))\n",
    "for j in range(11):\n",
    "    for i in range(number_seeds):\n",
    "        correct_classes_all[j, i] = np.load(os.path.join(exp_root, exp_name_1 + \"prob_{}\".format(j/10) +  exp_name_2[4:-1] + str(i), 'correct_classes.npy'))\n",
    "#         print(exp_name_1 + \"prob_{}\".format(j/10) +  exp_name_2[4:-1] + str(i))\n",
    "\n",
    "correct_classes_mean = np.mean(correct_classes_all, axis=1)\n",
    "plt.plot(np.mean(correct_classes_mean, axis=1))\n",
    "np.mean(correct_classes_mean, axis=1)"
   ]
  }
 ],
 "metadata": {
  "kernelspec": {
   "display_name": "Python 3 (ipykernel)",
   "language": "python",
   "name": "python3"
  },
  "language_info": {
   "codemirror_mode": {
    "name": "ipython",
    "version": 3
   },
   "file_extension": ".py",
   "mimetype": "text/x-python",
   "name": "python",
   "nbconvert_exporter": "python",
   "pygments_lexer": "ipython3",
   "version": "3.8.13"
  }
 },
 "nbformat": 4,
 "nbformat_minor": 4
}
